{
  "nbformat": 4,
  "nbformat_minor": 0,
  "metadata": {
    "accelerator": "GPU",
    "colab": {
      "name": "2v1.ipynb",
      "provenance": [],
      "collapsed_sections": []
    },
    "kernelspec": {
      "display_name": "Python 3",
      "name": "python3"
    },
    "language_info": {
      "name": "python"
    }
  },
  "cells": [
    {
      "cell_type": "code",
      "metadata": {
        "colab": {
          "base_uri": "https://localhost:8080/"
        },
        "id": "OoKpobSlH1BM",
        "outputId": "df1b5e56-362e-48eb-d1c5-8c07bde3ce42"
      },
      "source": [
        "pip install neupy"
      ],
      "execution_count": 85,
      "outputs": [
        {
          "output_type": "stream",
          "text": [
            "Requirement already satisfied: neupy in /usr/local/lib/python3.7/dist-packages (0.8.2)\n",
            "Requirement already satisfied: matplotlib>=1.5.1 in /usr/local/lib/python3.7/dist-packages (from neupy) (3.2.2)\n",
            "Requirement already satisfied: h5py in /usr/local/lib/python3.7/dist-packages (from neupy) (3.1.0)\n",
            "Requirement already satisfied: tensorflow<1.14.0,>=1.10.1 in /usr/local/lib/python3.7/dist-packages (from neupy) (1.13.2)\n",
            "Requirement already satisfied: progressbar2==3.34.3 in /usr/local/lib/python3.7/dist-packages (from neupy) (3.34.3)\n",
            "Requirement already satisfied: graphviz==0.5.1 in /usr/local/lib/python3.7/dist-packages (from neupy) (0.5.1)\n",
            "Requirement already satisfied: scipy>=0.19.0 in /usr/local/lib/python3.7/dist-packages (from neupy) (1.4.1)\n",
            "Requirement already satisfied: numpy>=1.13.3 in /usr/local/lib/python3.7/dist-packages (from neupy) (1.19.5)\n",
            "Requirement already satisfied: python-utils>=2.1.0 in /usr/local/lib/python3.7/dist-packages (from progressbar2==3.34.3->neupy) (2.5.6)\n",
            "Requirement already satisfied: kiwisolver>=1.0.1 in /usr/local/lib/python3.7/dist-packages (from matplotlib>=1.5.1->neupy) (1.3.1)\n",
            "Requirement already satisfied: pyparsing!=2.0.4,!=2.1.2,!=2.1.6,>=2.0.1 in /usr/local/lib/python3.7/dist-packages (from matplotlib>=1.5.1->neupy) (2.4.7)\n",
            "Requirement already satisfied: cycler>=0.10 in /usr/local/lib/python3.7/dist-packages (from matplotlib>=1.5.1->neupy) (0.10.0)\n",
            "Requirement already satisfied: python-dateutil>=2.1 in /usr/local/lib/python3.7/dist-packages (from matplotlib>=1.5.1->neupy) (2.8.2)\n",
            "Requirement already satisfied: six in /usr/local/lib/python3.7/dist-packages (from cycler>=0.10->matplotlib>=1.5.1->neupy) (1.15.0)\n",
            "Requirement already satisfied: astor>=0.6.0 in /usr/local/lib/python3.7/dist-packages (from tensorflow<1.14.0,>=1.10.1->neupy) (0.8.1)\n",
            "Requirement already satisfied: keras-preprocessing>=1.0.5 in /usr/local/lib/python3.7/dist-packages (from tensorflow<1.14.0,>=1.10.1->neupy) (1.1.2)\n",
            "Requirement already satisfied: tensorflow-estimator<1.14.0rc0,>=1.13.0 in /usr/local/lib/python3.7/dist-packages (from tensorflow<1.14.0,>=1.10.1->neupy) (1.13.0)\n",
            "Requirement already satisfied: absl-py>=0.1.6 in /usr/local/lib/python3.7/dist-packages (from tensorflow<1.14.0,>=1.10.1->neupy) (0.12.0)\n",
            "Requirement already satisfied: wheel>=0.26 in /usr/local/lib/python3.7/dist-packages (from tensorflow<1.14.0,>=1.10.1->neupy) (0.37.0)\n",
            "Requirement already satisfied: termcolor>=1.1.0 in /usr/local/lib/python3.7/dist-packages (from tensorflow<1.14.0,>=1.10.1->neupy) (1.1.0)\n",
            "Requirement already satisfied: tensorboard<1.14.0,>=1.13.0 in /usr/local/lib/python3.7/dist-packages (from tensorflow<1.14.0,>=1.10.1->neupy) (1.13.1)\n",
            "Requirement already satisfied: grpcio>=1.8.6 in /usr/local/lib/python3.7/dist-packages (from tensorflow<1.14.0,>=1.10.1->neupy) (1.34.1)\n",
            "Requirement already satisfied: gast>=0.2.0 in /usr/local/lib/python3.7/dist-packages (from tensorflow<1.14.0,>=1.10.1->neupy) (0.4.0)\n",
            "Requirement already satisfied: protobuf>=3.6.1 in /usr/local/lib/python3.7/dist-packages (from tensorflow<1.14.0,>=1.10.1->neupy) (3.17.3)\n",
            "Requirement already satisfied: keras-applications>=1.0.6 in /usr/local/lib/python3.7/dist-packages (from tensorflow<1.14.0,>=1.10.1->neupy) (1.0.8)\n",
            "Requirement already satisfied: werkzeug>=0.11.15 in /usr/local/lib/python3.7/dist-packages (from tensorboard<1.14.0,>=1.13.0->tensorflow<1.14.0,>=1.10.1->neupy) (1.0.1)\n",
            "Requirement already satisfied: markdown>=2.6.8 in /usr/local/lib/python3.7/dist-packages (from tensorboard<1.14.0,>=1.13.0->tensorflow<1.14.0,>=1.10.1->neupy) (3.3.4)\n",
            "Requirement already satisfied: importlib-metadata in /usr/local/lib/python3.7/dist-packages (from markdown>=2.6.8->tensorboard<1.14.0,>=1.13.0->tensorflow<1.14.0,>=1.10.1->neupy) (4.6.3)\n",
            "Requirement already satisfied: mock>=2.0.0 in /usr/local/lib/python3.7/dist-packages (from tensorflow-estimator<1.14.0rc0,>=1.13.0->tensorflow<1.14.0,>=1.10.1->neupy) (4.0.3)\n",
            "Requirement already satisfied: cached-property in /usr/local/lib/python3.7/dist-packages (from h5py->neupy) (1.5.2)\n",
            "Requirement already satisfied: typing-extensions>=3.6.4 in /usr/local/lib/python3.7/dist-packages (from importlib-metadata->markdown>=2.6.8->tensorboard<1.14.0,>=1.13.0->tensorflow<1.14.0,>=1.10.1->neupy) (3.7.4.3)\n",
            "Requirement already satisfied: zipp>=0.5 in /usr/local/lib/python3.7/dist-packages (from importlib-metadata->markdown>=2.6.8->tensorboard<1.14.0,>=1.13.0->tensorflow<1.14.0,>=1.10.1->neupy) (3.5.0)\n"
          ],
          "name": "stdout"
        }
      ]
    },
    {
      "cell_type": "markdown",
      "metadata": {
        "id": "qjC0i6fTvAwl"
      },
      "source": [
        "#2.2"
      ]
    },
    {
      "cell_type": "code",
      "metadata": {
        "id": "4wRYCD9NppJC"
      },
      "source": [
        "import numpy as np\n",
        "import math\n",
        "import pandas as pd\n",
        "%matplotlib inline\n",
        "import numpy as np\n",
        "import matplotlib.pyplot as plt\n",
        "import tensorflow.compat.v1 as tf\n",
        "import random\n",
        "import random\n",
        "import numpy as np\n",
        "import pandas as pd\n",
        "import copy\n",
        "import time\n",
        "from sklearn.preprocessing import OneHotEncoder\n",
        "from sklearn.metrics import mean_squared_error\n",
        "import numpy as np\n",
        "from neupy import algorithms\n",
        "from neupy.layers import *\n",
        "arr = []\n",
        "arr1 = []"
      ],
      "execution_count": 86,
      "outputs": []
    },
    {
      "cell_type": "code",
      "metadata": {
        "id": "X7PeeaPIwu0T"
      },
      "source": [
        "def f1(x1,x2):\n",
        "  y=(math.sin(2*x1+2)*math.cos(.5*x2)+.5)\n",
        "  return y\n"
      ],
      "execution_count": 87,
      "outputs": []
    },
    {
      "cell_type": "code",
      "metadata": {
        "id": "8k0TZzx_gN3W"
      },
      "source": [
        "x1 = []\n",
        "x2 = []\n",
        "f=[]\n",
        "for i in range(0,21):\n",
        "  x1.append(random.uniform(0, 360))\n",
        "  x2.append(random.uniform(0,360))\n",
        "for i in range(0,21):\n",
        "  f .append(f1(x1[i],x2[i]))\n"
      ],
      "execution_count": 88,
      "outputs": []
    },
    {
      "cell_type": "code",
      "metadata": {
        "colab": {
          "base_uri": "https://localhost:8080/"
        },
        "id": "rnsYZXKcad0J",
        "outputId": "821d1fc1-0198-4983-e844-faaa33d6f44b"
      },
      "source": [
        "testx1=[]\n",
        "testx2=[]\n",
        "testf=[]\n",
        "trainx1=[]\n",
        "trainx2=[]\n",
        "trainf=[]\n",
        "for i in range(0,11):\n",
        "  index=random.randint(0,20)\n",
        "  testx1.append(x1[index])\n",
        "  testx2.append(x2[index])\n",
        "  testf.append(f[index])\n",
        "  \n",
        "for i in range(0,10):\n",
        "  index=random.randint(0,20)\n",
        "  trainx1.append(x1[index])\n",
        "  trainx2.append(x2[index])\n",
        "  trainf.append(f[index])\n",
        "\n",
        "df_test=pd.DataFrame({'testx1':testx1,'testx2':testx2,'testf':testf})\n",
        "df_train=pd.DataFrame({'trainx1':trainx1,'trainx2':trainx2,'trainf':trainf})\n",
        "print(df_test)\n",
        "print(df_train)\n",
        "\n"
      ],
      "execution_count": 89,
      "outputs": [
        {
          "output_type": "stream",
          "text": [
            "        testx1      testx2     testf\n",
            "0   135.815132  157.053853  0.806656\n",
            "1   278.021371  333.964183  1.314446\n",
            "2     5.644147   75.370977  1.160769\n",
            "3   137.704246  313.229046  1.226144\n",
            "4   255.336817  114.960434  0.166084\n",
            "5   201.539265  111.612764  0.636947\n",
            "6   309.508761  333.369669  1.337153\n",
            "7   123.232243  358.845415  0.758214\n",
            "8     5.644147   75.370977  1.160769\n",
            "9   278.021371  333.964183  1.314446\n",
            "10  317.502624  330.146404  0.406382\n",
            "      trainx1     trainx2    trainf\n",
            "0  171.000707   68.417288  1.439754\n",
            "1  215.897893   63.812832  0.723360\n",
            "2  148.298944  262.210074  0.402711\n",
            "3  258.547894  250.323043 -0.086490\n",
            "4  215.897893   63.812832  0.723360\n",
            "5  123.232243  358.845415  0.758214\n",
            "6  201.813523  171.823062  0.664072\n",
            "7  218.080209    1.661982 -0.171308\n",
            "8  215.897893   63.812832  0.723360\n",
            "9  218.080209    1.661982 -0.171308\n"
          ],
          "name": "stdout"
        }
      ]
    },
    {
      "cell_type": "code",
      "metadata": {
        "colab": {
          "base_uri": "https://localhost:8080/",
          "height": 265
        },
        "id": "l4OP0jI7nIUY",
        "outputId": "e070fcbd-d5bc-45ac-ba97-44fdb5b072ac"
      },
      "source": [
        "fig = plt.figure()\n",
        "ax = plt.axes(projection='3d')\n",
        "ax.set_title('Train Data Points')\n",
        "ax.scatter3D(trainx1,trainx2,trainf,cmap='Greens')"
      ],
      "execution_count": 90,
      "outputs": [
        {
          "output_type": "execute_result",
          "data": {
            "text/plain": [
              "<mpl_toolkits.mplot3d.art3d.Path3DCollection at 0x7f08c9f61f90>"
            ]
          },
          "metadata": {
            "tags": []
          },
          "execution_count": 90
        },
        {
          "output_type": "display_data",
          "data": {
            "image/png": "[encoded data removed]",
            "text/plain": [
              "<Figure size 432x288 with 1 Axes>"
            ]
          },
          "metadata": {
            "tags": [],
            "needs_background": "light"
          }
        }
      ]
    },
    {
      "cell_type": "code",
      "metadata": {
        "colab": {
          "base_uri": "https://localhost:8080/",
          "height": 265
        },
        "id": "dwGtLm_PnrQ-",
        "outputId": "9090446d-5c2b-4760-f3af-cecd332faaec"
      },
      "source": [
        "fig = plt.figure()\n",
        "ax = plt.axes(projection='3d')\n",
        "ax.set_title('test data points')\n",
        "ax.scatter3D(testx1,testx2,testf,cmap='Greens')"
      ],
      "execution_count": 91,
      "outputs": [
        {
          "output_type": "execute_result",
          "data": {
            "text/plain": [
              "<mpl_toolkits.mplot3d.art3d.Path3DCollection at 0x7f08c9f93d90>"
            ]
          },
          "metadata": {
            "tags": []
          },
          "execution_count": 91
        },
        {
          "output_type": "display_data",
          "data": {
            "image/png": "[encoded data removed]",
            "text/plain": [
              "<Figure size 432x288 with 1 Axes>"
            ]
          },
          "metadata": {
            "tags": [],
            "needs_background": "light"
          }
        }
      ]
    },
    {
      "cell_type": "markdown",
      "metadata": {
        "id": "5Ib1mNOT1mD7"
      },
      "source": [
        "\n",
        "# 2.3\n",
        "\n"
      ]
    },
    {
      "cell_type": "code",
      "metadata": {
        "id": "E0oqlEXT1ltd"
      },
      "source": [
        "\n",
        "tf.disable_v2_behavior()\n",
        "\n",
        "#m#nist = tf.keras.datasets.mnist\n",
        "#(x_train, y_train),(x_test, y_test) = mnist.load_data()\n",
        "#x_train, x_test = x_train / 255.0, x_test / 255.0\n",
        "\n",
        "learning_rate = 0.01\n",
        "training_epochs = 10\n",
        "batch_size = 32\n",
        "display_step = 1\n",
        "\n",
        "n_hidden_1 = 64\n",
        "n_hidden_2 = 32\n",
        "n_hidden_3 = 16\n",
        "n_hidden_4 = 8\n",
        "n_hidden_5 = 4\n",
        "n_hidden_6 = 2\n",
        "n_input    = 2\n",
        "n_output   = 1\n",
        "\n",
        "X = tf.placeholder(\"float\", [None, n_input])\n",
        "Y = tf.placeholder(\"float\", [None, n_output])\n",
        "\n",
        "W1 = tf.Variable(tf.random_uniform([n_input, n_hidden_1],    -1.0, 1.0)) #layer1\n",
        "W2 = tf.Variable(tf.random_uniform([n_hidden_1, n_hidden_2], -1.0, 1.0))#layer2\n",
        "W3 = tf.Variable(tf.random_uniform([n_hidden_2, n_hidden_3], -1.0, 1.0))#layer3\n",
        "W4 = tf.Variable(tf.random_uniform([n_hidden_3, n_hidden_4], -1.0, 1.0))#layer4\n",
        "W5 = tf.Variable(tf.random_uniform([n_hidden_4, n_hidden_5], -1.0, 1.0))\n",
        "W6 = tf.Variable(tf.random_uniform([n_hidden_5, n_hidden_6], -1.0, 1.0))\n",
        "W7 = tf.Variable(tf.random_uniform([n_hidden_6, n_output],    -1.0, 1.0))\n",
        "\n",
        "\n",
        "# Bias\n",
        "b1 = tf.Variable(tf.zeros([n_hidden_1]))\n",
        "b2 = tf.Variable(tf.zeros([n_hidden_2]))\n",
        "b3 = tf.Variable(tf.zeros([n_hidden_3]))\n",
        "b4 = tf.Variable(tf.zeros([n_hidden_4]))\n",
        "b5 = tf.Variable(tf.zeros([n_hidden_5]))\n",
        "b6 = tf.Variable(tf.zeros([n_hidden_6]))\n",
        "b7 = tf.Variable(tf.zeros([n_hidden_6]))\n",
        "\n",
        "\n",
        "def multilayer_perceptron(x):\n",
        "    l0 = x\n",
        "    l1 = tf.nn.sigmoid(tf.matmul(l0, W1) + b1)\n",
        "    l2 = tf.nn.sigmoid(tf.matmul(l1, W2) + b2)\n",
        "    l3 = tf.nn.sigmoid(tf.matmul(l2, W3) + b3)\n",
        "    l4 = tf.nn.sigmoid(tf.matmul(l3, W4) + b4)\n",
        "    l5 = tf.nn.sigmoid(tf.matmul(l4, W5) + b5)\n",
        "    l6 = tf.nn.sigmoid(tf.matmul(l5, W6) + b6)\n",
        "    l7 = tf.matmul(l6, W7) + b7\n",
        "    return l7\n",
        "\n",
        "logits = multilayer_perceptron(X)\n",
        "pred = tf.keras.activations.linear(logits)\n",
        "\n"
      ],
      "execution_count": 92,
      "outputs": []
    },
    {
      "cell_type": "markdown",
      "metadata": {
        "id": "5Y2j7i51Idw3"
      },
      "source": [
        "#2.3"
      ]
    },
    {
      "cell_type": "code",
      "metadata": {
        "id": "DmRQI7PlPYL_"
      },
      "source": [
        "class Network(object):\n",
        "\n",
        "    def __init__(self, sizes):\n",
        "        self.num_layers = len(sizes)\n",
        "        self.sizes = sizes\n",
        "        self.biases = [np.random.randn(y, 1) for y in sizes[1:]]\n",
        "        self.weights = [np.random.randn(y, x) for x, y in zip(sizes[:-1], sizes[1:])]\n",
        "        \n",
        "        # helper variables\n",
        "        self.bias_nitem = sum(sizes[1:])\n",
        "        self.weight_nitem = sum([self.weights[i].size for i in range(self.num_layers-2)])\n",
        "\n",
        "    def feedforward(self, a):\n",
        "        '''Return the output of the network if ``a`` is input.'''\n",
        "        for b, w in zip(self.biases, self.weights):\n",
        "            a = self.sigmoid(np.dot(w,a)+b)\n",
        "        #a=(self.weights[len(self.biases)-1]*a)+self.biases[len(self.biases)-1]\n",
        "        return  a \n",
        "\n",
        "    def sigmoid(self, z):\n",
        "        '''The sigmoid function.'''\n",
        "        return 1.0/(1.0+np.exp(-z))\n",
        "\n",
        "    def score(self, X, y):\n",
        "\n",
        "        total_score=0\n",
        "        for i in range(len(X)):\n",
        "            predicted = self.feedforward(X[i])\n",
        "            actual = y[i]\n",
        "            total_score += np.sum(np.power(predicted-actual,2)/2)  # mean-squared error\n",
        "        return total_score\n",
        "\n",
        "    def accuracy(self, X, y):\n",
        "        # arr = []\n",
        "        # arr1 = []\n",
        "\n",
        "        accuracy = 0\n",
        "        # arr = []\n",
        "        # arr1 = []\n",
        "        for i in range(len(X)):\n",
        "           \n",
        "            output = self.feedforward(X[i])\n",
        "            \n",
        "            if np.argmax(output) !=0 or np.argmax(y[i])!=0:            \n",
        "                  accuracy+=1\n",
        "                  arr.append(np.argmax(output))\n",
        "                  arr1.append(np.argmax(y[i]))\n",
        "\n",
        "           \n",
        "       \n",
        "        return accuracy/ len(X) * 100\n",
        "\n",
        "    def __str__(self):\n",
        "        s = \"\\nBias:\\n\\n\" + str(self.biases)\n",
        "        s += \"\\nWeights:\\n\\n\" + str(self.weights)\n",
        "        s += \"\\n\\n\"\n",
        "        return s\n"
      ],
      "execution_count": 103,
      "outputs": []
    },
    {
      "cell_type": "markdown",
      "metadata": {
        "id": "B5W6hYySIn-b"
      },
      "source": [
        "#2.4\n"
      ]
    },
    {
      "cell_type": "code",
      "metadata": {
        "id": "9Um8m5v-K0uu"
      },
      "source": [
        "\n",
        "class NNGeneticAlgo:\n",
        "\n",
        "    def __init__(self, n_pops, net_size, mutation_rate, crossover_rate, retain_rate, X, y):\n",
        "        self.n_pops = n_pops\n",
        "        self.net_size = net_size\n",
        "        self.nets = [Network(self.net_size) for i in range(self.n_pops)]\n",
        "        self.mutation_rate = mutation_rate\n",
        "        self.crossover_rate = crossover_rate\n",
        "        self.retain_rate = retain_rate\n",
        "        self.X = X[:]\n",
        "        self.y = y[:]\n",
        "    \n",
        "    def get_random_point(self, type):\n",
        "        nn = self.nets[0]\n",
        "        layer_index, point_index = random.randint(0, nn.num_layers-2), 0\n",
        "        if type == 'weight':\n",
        "            row = random.randint(0,nn.weights[layer_index].shape[0]-1)\n",
        "            col = random.randint(0,nn.weights[layer_index].shape[1]-1)\n",
        "            point_index = (row, col)\n",
        "        elif type == 'bias':\n",
        "            point_index = random.randint(0,nn.biases[layer_index].size-1)\n",
        "\n",
        "        \n",
        "        return (layer_index, point_index)\n",
        "\n",
        "\n",
        "    def get_all_scores(self):\n",
        "        return [net.score(self.X, self.y) for net in self.nets]\n",
        "\n",
        "    def get_all_accuracy(self):\n",
        "        return [net.accuracy(self.X, self.y) for net in self.nets]\n",
        "\n",
        "    def crossover(self, father, mother):\n",
        "\n",
        "        nn = copy.deepcopy(father)\n",
        "        for _ in range(self.nets[0].bias_nitem):\n",
        "            layer, point = self.get_random_point('bias')\n",
        "            if random.uniform(0,1) < self.crossover_rate:\n",
        "                nn.biases[layer][point] = mother.biases[layer][point]\n",
        "\n",
        "        for _ in range(self.nets[0].weight_nitem):\n",
        "            layer, point = self.get_random_point('weight')\n",
        "            if random.uniform(0,1) < self.crossover_rate:\n",
        "                nn.weights[layer][point] = mother.weights[layer][point]\n",
        "       \n",
        "        return nn\n",
        "        \n",
        "    def mutation(self, child):\n",
        "\n",
        "        nn = copy.deepcopy(child)\n",
        "\n",
        "        # mutate bias\n",
        "        for _ in range(self.nets[0].bias_nitem):\n",
        "            # get some random points\n",
        "            layer, point = self.get_random_point('bias')\n",
        "            # add some random value between -0.5 and 0.5\n",
        "            if random.uniform(0,1) < self.mutation_rate:\n",
        "                nn.biases[layer][point] += random.uniform(-0.5, 0.5)\n",
        "\n",
        "        # mutate weight\n",
        "        for _ in range(self.nets[0].weight_nitem):\n",
        "            # get some random points\n",
        "            layer, point = self.get_random_point('weight')\n",
        "            # add some random value between -0.5 and 0.5\n",
        "            if random.uniform(0,1) < self.mutation_rate:\n",
        "                nn.weights[layer][point[0], point[1]] += random.uniform(-0.5, 0.5)\n",
        "\n",
        "        return nn\n",
        "\n",
        "    def evolve(self):\n",
        "\n",
        "        score_list = list(zip(self.nets, self.get_all_scores()))\n",
        "        score_list.sort(key=lambda x: x[1])\n",
        "        score_list = [obj[0] for obj in score_list]\n",
        "        retain_num = int(self.n_pops*self.retain_rate)\n",
        "        score_list_top = score_list[:retain_num]\n",
        "        retain_non_best = int((self.n_pops-retain_num) * self.retain_rate)\n",
        "        for _ in range(random.randint(0, retain_non_best)):\n",
        "            score_list_top.append(random.choice(score_list[retain_num:]))\n",
        "\n",
        "        # breed new childs if current population number less than what we want\n",
        "        while len(score_list_top) < self.n_pops:\n",
        "\n",
        "            father = random.choice(score_list_top)\n",
        "            mother = random.choice(score_list_top)\n",
        "\n",
        "            if father != mother:\n",
        "                new_child = self.crossover(father, mother)\n",
        "                new_child = self.mutation(new_child)\n",
        "                score_list_top.append(new_child) \n",
        "        # copy our new population to current object\n",
        "        self.nets = score_list_top\n",
        "        \n",
        "\n"
      ],
      "execution_count": 104,
      "outputs": []
    },
    {
      "cell_type": "markdown",
      "metadata": {
        "id": "A-L2HVdMJADM"
      },
      "source": [
        "#2.4"
      ]
    },
    {
      "cell_type": "code",
      "metadata": {
        "colab": {
          "base_uri": "https://localhost:8080/"
        },
        "id": "EKc6icGaNbKG",
        "outputId": "eede369f-2723-494b-d45c-ec0287c797ec"
      },
      "source": [
        "    # parameters\n",
        "    N_POPS = 100\n",
        "    NET_SIZE = [64,32,16,8,4,2]\n",
        "    MUTATION_RATE = 0.2\n",
        "    CROSSOVER_RATE = 0.4\n",
        "    RETAIN_RATE = 0.4\n",
        "\n",
        "    # start our neural-net & optimize it using genetic algorithm\n",
        "    nnga = NNGeneticAlgo(N_POPS, NET_SIZE, MUTATION_RATE, CROSSOVER_RATE, RETAIN_RATE, x2, f)\n",
        "\n",
        "    start_time = time.time()\n",
        "    \n",
        "    # run for n iterations\n",
        "    for i in range(10):\n",
        "\n",
        "        if i % 10 == 0:\n",
        "\n",
        "            print(\"Current iteration : {}\".format(i+1))\n",
        "            print(\"Time taken by far : %.1f seconds\" % (time.time() - start_time))\n",
        "            print(\"Current top member's network accuracy: %.2f%%\\n\" % nnga.get_all_accuracy()[0])\n",
        "        \n",
        "\n",
        "        # evolve the population\n",
        "        nnga.evolve()\n",
        "   \n",
        "\n",
        "\n"
      ],
      "execution_count": 105,
      "outputs": [
        {
          "output_type": "stream",
          "text": [
            "Current iteration : 1\n",
            "Time taken by far : 0.0 seconds\n"
          ],
          "name": "stdout"
        },
        {
          "output_type": "stream",
          "text": [
            "/usr/local/lib/python3.7/dist-packages/ipykernel_launcher.py:22: RuntimeWarning: overflow encountered in exp\n"
          ],
          "name": "stderr"
        },
        {
          "output_type": "stream",
          "text": [
            "Current top member's network accuracy: 100.00%\n",
            "\n"
          ],
          "name": "stdout"
        }
      ]
    },
    {
      "cell_type": "code",
      "metadata": {
        "colab": {
          "base_uri": "https://localhost:8080/",
          "height": 282
        },
        "id": "1Gf7CPDUFDLI",
        "outputId": "22317606-199f-4bb0-f39d-fa065809d5bf"
      },
      "source": [
        "def MSE(fan1,fan2):\n",
        "  plt.plot(mean_squared_error(fan1,fan2))\n",
        "  return mean_squared_error(fan1,fan2)\n",
        "print('Mean Squared Error: ',MSE(arr,arr1))"
      ],
      "execution_count": 106,
      "outputs": [
        {
          "output_type": "stream",
          "text": [
            "Mean Squared Error:  6663.817619047619\n"
          ],
          "name": "stdout"
        },
        {
          "output_type": "display_data",
          "data": {
            "image/png": "[encoded data removed]",
            "text/plain": [
              "<Figure size 432x288 with 1 Axes>"
            ]
          },
          "metadata": {
            "tags": [],
            "needs_background": "light"
          }
        }
      ]
    }
  ]
}